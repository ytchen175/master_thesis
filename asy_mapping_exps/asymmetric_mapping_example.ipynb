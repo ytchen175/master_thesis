{
 "cells": [
  {
   "cell_type": "code",
   "execution_count": 4,
   "metadata": {},
   "outputs": [
    {
     "data": {
      "text/plain": [
       "('而在中時報系以不堪虧損為由捨棄晚報的同時，另方面卻持續入股中天電視台，並有意在未來收購中視，成就跨媒體集團霸業。',\n",
       " '雖然他是個大老闆，不過他在私底下的一面卻是十分親和，像是喜歡吃泡麵多於牛排龍蝦。',\n",
       " '而在臺灣電視台以不堪虧損為由捨棄晚報的同時，另方面卻持續入股中天電視台，並有意在未來收購中視，成就跨媒體集團霸業。')"
      ]
     },
     "execution_count": 4,
     "metadata": {},
     "output_type": "execute_result"
    }
   ],
   "source": [
    "# baseline_res 與 model_res 長度不同，需要建立在這個前提下做替換，\n",
    "# 由於 model_res 的幻覺長度通常都會大於應有的長度，因此這邊實作了一個 reverse mapping 的機制將 model_res 的字修正回去\n",
    "def revise_asymmetric_characters_by_llm(baseline_res, model_res, mappings):\n",
    "    reverse_mapping = {} # ex. {'系': '系', '係': '系', '繫': '系'...}\n",
    "    for key, values in mappings.items():\n",
    "        for value in values:\n",
    "            reverse_mapping[value] = key\n",
    "\n",
    "    baseline_res_list = list(baseline_res)\n",
    "    model_res_list = list(model_res)\n",
    "\n",
    "    for i, char in enumerate(baseline_res_list):\n",
    "        if char in reverse_mapping:\n",
    "            # Condition statements explanations:\n",
    "            # 1. prevent index error\n",
    "            # 2. assure model_res is in mappings candidates, \n",
    "            #   ex. char='係' -> reverse_mappings['係']='系' -> mappings['系']=['系', '係', '繫']\n",
    "            # 3. if baseline_res[i] != model_res[i], then replace character\n",
    "            if i < len(model_res_list) and model_res_list[i] in mappings[reverse_mapping[char]] and model_res_list[i] != char:\n",
    "                baseline_res_list[i] = model_res_list[i]\n",
    "\n",
    "    return ''.join(baseline_res_list)\n",
    "\n",
    "# Test cases\n",
    "mappings1 = {'系': ['系', '係', '繫'], '台': ['台', '臺', '颱'], '舍': ['舍', '捨'], '面': ['面', '麵'], '并': ['并', '並', '併']}\n",
    "baseline_response1 = \"而在中時報係以不堪虧損為由捨棄晚報的同時，另方面卻持續入股中天電視台，並有意在未來收購中視，成就跨媒體集團霸業。\"\n",
    "model_response1 = \"而在中時報系以不堪虧損為由捨棄週報雜誌的同時，另方面卻持續入股中天電視台，並有意在未來收購中視，成就跨媒體集團霸業。\"\n",
    "\n",
    "mappings2 = {'測': ['test'], '系': ['系', '係', '繫'], '台': ['台', '臺', '颱'], '舍': ['舍', '捨'], '面': ['面', '麵'], '并': ['并', '並', '併']}\n",
    "baseline_response2 = \"雖然他是個大老闆，不過他在私底下的一麵卻是十分親和，像是喜歡吃泡麵多於牛排龍蝦。\"\n",
    "model_response2 = \"雖然他是個大老闆，不過他在私底下的一面卻是十分親和，像是喜歡吃泡麵多於牛排龍蝦。\"\n",
    "\n",
    "mappings3 = {'測': ['test'], '系': ['系', '係', '繫'], '台': ['台', '臺', '颱'], '舍': ['舍', '捨'], '面': ['面', '麵'], '并': ['并', '並', '併']}\n",
    "baseline_response3 = \"而在台灣電視台以不堪虧損為由捨棄晚報的同時，另方面卻持續入股中天電視台，並有意在未來收購中視，成就跨媒體集團霸業。\"\n",
    "model_response3 = \"而在臺灣電視台以不堪虧損為由捨棄週報雜誌的同時，另方面卻持續入股中天電視台，並有意在未來收購中視，成就跨媒體集團霸業。\"\n",
    "\n",
    "# Apply the function to test cases\n",
    "output1 = revise_asymmetric_characters_by_llm(baseline_response1, model_response1, mappings1)\n",
    "output2 = revise_asymmetric_characters_by_llm(baseline_response2, model_response2, mappings2)\n",
    "output3 = revise_asymmetric_characters_by_llm(baseline_response3, model_response3, mappings3)\n",
    "\n",
    "output1, output2, output3\n"
   ]
  },
  {
   "cell_type": "code",
   "execution_count": 6,
   "metadata": {},
   "outputs": [
    {
     "data": {
      "text/plain": [
       "('而在中時報系以不堪虧損為由捨棄晚報的同時，另方面卻持續入股中天電視台，並有意在未來收購中視，成就跨媒體集團霸業。',\n",
       " '而在中時報系以不堪虧損為由捨棄晚報的同時，另方面卻持續入股中天電視台，並有意在未來收購中視，成就跨媒體集團霸業。',\n",
       " '而在中時報系以不堪虧損為由捨棄晚報的同時，另方面卻持續入股中天電視台，並有意在未來收購中視，成就跨媒體集團霸業。')"
      ]
     },
     "execution_count": 6,
     "metadata": {},
     "output_type": "execute_result"
    }
   ],
   "source": [
    "mappings1 = {'系': ['系', '係', '繫'], '台': ['台', '臺', '颱'], '舍': ['舍', '捨'], '面': ['面', '麵'], '并': ['并', '並', '併']}\n",
    "baseline_response1 = \"而在中時報係以不堪虧損為由捨棄晚報的同時，另方面卻持續入股中天電視台，並有意在未來收購中視，成就跨媒體集團霸業。\"\n",
    "model_response1 = \"而在中時報系以不堪虧損為由捨棄晚報同時，另方面卻持續入股中天電視台，並有意在未來收購中視，成就跨媒體集團霸業。\"\n",
    "\n",
    "mappings2 = {'系': ['系', '係', '繫'], '台': ['台', '臺', '颱'], '舍': ['舍', '捨'], '面': ['面', '麵'], '并': ['并', '並', '併']}\n",
    "baseline_response2 = \"而在中時報係以不堪虧損為由捨棄晚報的同時，另方面卻持續入股中天電視台，並有意在未來收購中視，成就跨媒體集團霸業。\"\n",
    "model_response2 = \"而在中時報系以不堪虧損為由捨棄週刊雜誌同時，另方面卻持續入股中天電視臺，並有意在未來收購中視，成就跨媒體集團霸業。\"\n",
    "\n",
    "mappings3 = {'系': ['系', '係', '繫'], '台': ['台', '臺', '颱'], '舍': ['舍', '捨'], '面': ['面', '麵'], '并': ['并', '並', '併']}\n",
    "baseline_response3 = \"而在中時報係以不堪虧損為由捨棄晚報的同時，另方面卻持續入股中天電視台，並有意在未來收購中視，成就跨媒體集團霸業。\"\n",
    "model_response3 = \"而在中時報系以不堪虧損為由捨棄日報同時，另方面卻持續入股中天電視台，並有意於未來收購中視，成就跨媒體集團霸業。\"\n",
    "\n",
    "# Apply the function to test cases\n",
    "output1 = revise_asymmetric_characters_by_llm(baseline_response1, model_response1, mappings1)\n",
    "output2 = revise_asymmetric_characters_by_llm(baseline_response2, model_response2, mappings2)\n",
    "output3 = revise_asymmetric_characters_by_llm(baseline_response3, model_response3, mappings3)\n",
    "\n",
    "output1, output2, output3\n"
   ]
  },
  {
   "cell_type": "code",
   "execution_count": 1,
   "metadata": {},
   "outputs": [
    {
     "name": "stderr",
     "output_type": "stream",
     "text": [
      "Building prefix dict from the default dictionary ...\n",
      "Dumping model to file cache C:\\Users\\wirl\\AppData\\Local\\Temp\\jieba.cache\n",
      "Loading model cost 0.617 seconds.\n",
      "Prefix dict has been built successfully.\n"
     ]
    },
    {
     "name": "stdout",
     "output_type": "stream",
     "text": [
      "---\n",
      "Ground truth sentence:     而在中時報系以不堪虧損為由捨棄晚報的同時，另方面卻持續入股中天電視台，並有意在未來收購中視，成就跨媒體集團霸業。\n",
      "Model translated sentence: 而在中時報系以不堪虧損為由捨棄週報雜誌的同時，另方面卻持續入股中天電視台，並有意在未來收購中視，成就跨媒體集團霸業。\n",
      "---\n",
      "Ground truth sentence (cutted):     ['而', '在', '中時', '報系', '以', '不堪', '虧損', '為', '由', '捨', '棄晚', '報', '的', '同時', '，', '另', '方面', '卻', '持續', '入股', '中天', '電視台', '，', '並', '有意', '在', '未來', '收購', '中視', '，', '成就', '跨媒體', '集團', '霸業', '。']\n",
      "Model translated sentence (cutted): ['而', '在', '中時', '報系', '以', '不堪', '虧損', '為', '由', '捨', '棄週報', '雜誌', '的', '同時', '，', '另', '方面', '卻', '持續', '入股', '中天', '電視台', '，', '並', '有意', '在', '未來', '收購', '中視', '，', '成就', '跨媒體', '集團', '霸業', '。']\n",
      "---\n",
      "bleu_score: 0.8935248372106969\n",
      "---\n",
      "gleu_score: 0.927536231884058\n",
      "---\n"
     ]
    }
   ],
   "source": [
    "import pandas as pd\n",
    "import jieba\n",
    "\n",
    "import nltk.translate.gleu_score as gleu\n",
    "from nltk.translate.bleu_score import sentence_bleu\n",
    "\n",
    "true_sentence = \"而在中時報系以不堪虧損為由捨棄晚報的同時，另方面卻持續入股中天電視台，並有意在未來收購中視，成就跨媒體集團霸業。\"\n",
    "revised_response = \"而在中時報系以不堪虧損為由捨棄週報雜誌的同時，另方面卻持續入股中天電視台，並有意在未來收購中視，成就跨媒體集團霸業。\"\n",
    "\n",
    "ref = list(jieba.cut(true_sentence))\n",
    "src = list(jieba.cut(revised_response))\n",
    "\n",
    "print('---')\n",
    "print(f\"Ground truth sentence:     {true_sentence}\")\n",
    "print(f\"Model translated sentence: {revised_response}\")\n",
    "print('---')\n",
    "print(f\"Ground truth sentence (cutted):     {ref}\")\n",
    "print(f\"Model translated sentence (cutted): {src}\")\n",
    "print('---')\n",
    "\n",
    "bleu_score = sentence_bleu([ref], src)\n",
    "print(f\"bleu_score: {bleu_score}\")\n",
    "print('---')\n",
    "\n",
    "gleu_score = gleu.sentence_gleu([ref], src, min_len=1, max_len=2)\n",
    "print(f\"gleu_score: {gleu_score}\")\n",
    "print('---')\n",
    "\n"
   ]
  },
  {
   "cell_type": "code",
   "execution_count": 2,
   "metadata": {},
   "outputs": [
    {
     "name": "stdout",
     "output_type": "stream",
     "text": [
      "---\n",
      "Ground truth sentence:     而在中時報系以不堪虧損為由捨棄晚報的同時，另方面卻持續入股中天電視台，並有意在未來收購中視，成就跨媒體集團霸業。\n",
      "Model translated sentence: 而在中時報系以不堪虧損為由捨棄週報雜誌的同時，另方面卻持續入股中天電視台，並有意在未來收購中視，成就跨媒體集團霸業。\n",
      "---\n",
      "Ground truth sentence (cutted):     ['而', '在', '中', '時', '報', '系', '以', '不', '堪', '虧', '損', '為', '由', '捨', '棄', '晚', '報', '的', '同', '時', '，', '另', '方', '面', '卻', '持', '續', '入', '股', '中', '天', '電', '視', '台', '，', '並', '有', '意', '在', '未', '來', '收', '購', '中', '視', '，', '成', '就', '跨', '媒', '體', '集', '團', '霸', '業', '。']\n",
      "Model translated sentence (cutted): ['而', '在', '中', '時', '報', '系', '以', '不', '堪', '虧', '損', '為', '由', '捨', '棄', '週', '報', '雜', '誌', '的', '同', '時', '，', '另', '方', '面', '卻', '持', '續', '入', '股', '中', '天', '電', '視', '台', '，', '並', '有', '意', '在', '未', '來', '收', '購', '中', '視', '，', '成', '就', '跨', '媒', '體', '集', '團', '霸', '業', '。']\n",
      "---\n",
      "bleu_score: 0.9061100081150306\n",
      "---\n",
      "gleu_score: 0.9304347826086956\n",
      "---\n"
     ]
    }
   ],
   "source": [
    "true_sentence = \"而在中時報系以不堪虧損為由捨棄晚報的同時，另方面卻持續入股中天電視台，並有意在未來收購中視，成就跨媒體集團霸業。\"\n",
    "revised_response = \"而在中時報系以不堪虧損為由捨棄週報雜誌的同時，另方面卻持續入股中天電視台，並有意在未來收購中視，成就跨媒體集團霸業。\"\n",
    "\n",
    "ref = list(true_sentence)\n",
    "src = list(revised_response)\n",
    "\n",
    "print('---')\n",
    "print(f\"Ground truth sentence:     {true_sentence}\")\n",
    "print(f\"Model translated sentence: {revised_response}\")\n",
    "print('---')\n",
    "print(f\"Ground truth sentence (cutted):     {ref}\")\n",
    "print(f\"Model translated sentence (cutted): {src}\")\n",
    "print('---')\n",
    "\n",
    "bleu_score = sentence_bleu([ref], src)\n",
    "print(f\"bleu_score: {bleu_score}\")\n",
    "print('---')\n",
    "\n",
    "gleu_score = gleu.sentence_gleu([ref], src, min_len=1, max_len=2)\n",
    "print(f\"gleu_score: {gleu_score}\")\n",
    "print('---')\n"
   ]
  },
  {
   "cell_type": "code",
   "execution_count": 3,
   "metadata": {},
   "outputs": [
    {
     "data": {
      "text/html": [
       "<div>\n",
       "<style scoped>\n",
       "    .dataframe tbody tr th:only-of-type {\n",
       "        vertical-align: middle;\n",
       "    }\n",
       "\n",
       "    .dataframe tbody tr th {\n",
       "        vertical-align: top;\n",
       "    }\n",
       "\n",
       "    .dataframe thead th {\n",
       "        text-align: right;\n",
       "    }\n",
       "</style>\n",
       "<table border=\"1\" class=\"dataframe\">\n",
       "  <thead>\n",
       "    <tr style=\"text-align: right;\">\n",
       "      <th></th>\n",
       "      <th>ch</th>\n",
       "      <th>ch_SC</th>\n",
       "    </tr>\n",
       "  </thead>\n",
       "  <tbody>\n",
       "    <tr>\n",
       "      <th>0</th>\n",
       "      <td>而在中時報系以不堪虧損為由捨棄晚報的同時，另方面卻持續入股中天電視台，並有意在未來收購中視，...</td>\n",
       "      <td>而在中时报系以不堪亏损为由舍弃晚报的同时，另方面却持续入股中天电视台，并有意在未来收购中视，...</td>\n",
       "    </tr>\n",
       "    <tr>\n",
       "      <th>1</th>\n",
       "      <td>終戰後的十餘年間，可說是歌仔戲的黃金時代，人才輩出，除了活躍於戲院舞台的「內台戲」外，還有「...</td>\n",
       "      <td>终战后的十余年间，可说是歌仔戏的黄金时代，人才辈出，除了活跃於戏院舞台的「内台戏」外，还有「...</td>\n",
       "    </tr>\n",
       "    <tr>\n",
       "      <th>2</th>\n",
       "      <td>「國民美術」以非學院派美術基調的發展過程，巧妙地與 1998 年國內社區大學興起的「解放知識...</td>\n",
       "      <td>「国民美术」以非学院派美术基调的发展过程，巧妙地与 1998 年国内社区大学兴起的「解放知识...</td>\n",
       "    </tr>\n",
       "    <tr>\n",
       "      <th>3</th>\n",
       "      <td>汐止社大主任潘英海表示：「國民美術像集體參與的美術豐年祭，劉秀美在社區成立畫會，建構集體記憶...</td>\n",
       "      <td>汐止社大主任潘英海表示：「国民美术像集体参与的美术丰年祭，刘秀美在社区成立画会，建构集体记忆...</td>\n",
       "    </tr>\n",
       "    <tr>\n",
       "      <th>4</th>\n",
       "      <td>例如日治時期祖父在金瓜石經營「鈔利搗礦場」的鄭炯輝，將當時用水車淘洗金砂的過程，一一用圖畫記...</td>\n",
       "      <td>例如日治时期祖父在金瓜石经营「钞利捣矿场」的郑炯辉，将当时用水车淘洗金砂的过程，一一用图画记...</td>\n",
       "    </tr>\n",
       "    <tr>\n",
       "      <th>...</th>\n",
       "      <td>...</td>\n",
       "      <td>...</td>\n",
       "    </tr>\n",
       "    <tr>\n",
       "      <th>310911</th>\n",
       "      <td>誰來對抗資本主義？</td>\n",
       "      <td>谁来对抗资本主义？</td>\n",
       "    </tr>\n",
       "    <tr>\n",
       "      <th>310912</th>\n",
       "      <td>在西畫荒漠中披荊斬棘</td>\n",
       "      <td>在西画荒漠中披荆斩棘</td>\n",
       "    </tr>\n",
       "    <tr>\n",
       "      <th>310913</th>\n",
       "      <td>我怕！」</td>\n",
       "      <td>我怕！」</td>\n",
       "    </tr>\n",
       "    <tr>\n",
       "      <th>310914</th>\n",
       "      <td>多麼主觀傲慢！</td>\n",
       "      <td>多么主观傲慢！</td>\n",
       "    </tr>\n",
       "    <tr>\n",
       "      <th>310915</th>\n",
       "      <td>不只是給一條魚﹘﹘中華民國駐史瓦濟蘭技術服務</td>\n",
       "      <td>不只是给一条鱼﹘﹘中华民国驻史瓦济兰技术服务</td>\n",
       "    </tr>\n",
       "  </tbody>\n",
       "</table>\n",
       "<p>310916 rows × 2 columns</p>\n",
       "</div>"
      ],
      "text/plain": [
       "                                                       ch  \\\n",
       "0       而在中時報系以不堪虧損為由捨棄晚報的同時，另方面卻持續入股中天電視台，並有意在未來收購中視，...   \n",
       "1       終戰後的十餘年間，可說是歌仔戲的黃金時代，人才輩出，除了活躍於戲院舞台的「內台戲」外，還有「...   \n",
       "2       「國民美術」以非學院派美術基調的發展過程，巧妙地與 1998 年國內社區大學興起的「解放知識...   \n",
       "3       汐止社大主任潘英海表示：「國民美術像集體參與的美術豐年祭，劉秀美在社區成立畫會，建構集體記憶...   \n",
       "4       例如日治時期祖父在金瓜石經營「鈔利搗礦場」的鄭炯輝，將當時用水車淘洗金砂的過程，一一用圖畫記...   \n",
       "...                                                   ...   \n",
       "310911                                          誰來對抗資本主義？   \n",
       "310912                                         在西畫荒漠中披荊斬棘   \n",
       "310913                                               我怕！」   \n",
       "310914                                            多麼主觀傲慢！   \n",
       "310915                             不只是給一條魚﹘﹘中華民國駐史瓦濟蘭技術服務   \n",
       "\n",
       "                                                    ch_SC  \n",
       "0       而在中时报系以不堪亏损为由舍弃晚报的同时，另方面却持续入股中天电视台，并有意在未来收购中视，...  \n",
       "1       终战后的十余年间，可说是歌仔戏的黄金时代，人才辈出，除了活跃於戏院舞台的「内台戏」外，还有「...  \n",
       "2       「国民美术」以非学院派美术基调的发展过程，巧妙地与 1998 年国内社区大学兴起的「解放知识...  \n",
       "3       汐止社大主任潘英海表示：「国民美术像集体参与的美术丰年祭，刘秀美在社区成立画会，建构集体记忆...  \n",
       "4       例如日治时期祖父在金瓜石经营「钞利捣矿场」的郑炯辉，将当时用水车淘洗金砂的过程，一一用图画记...  \n",
       "...                                                   ...  \n",
       "310911                                          谁来对抗资本主义？  \n",
       "310912                                         在西画荒漠中披荆斩棘  \n",
       "310913                                               我怕！」  \n",
       "310914                                            多么主观傲慢！  \n",
       "310915                             不只是给一条鱼﹘﹘中华民国驻史瓦济兰技术服务  \n",
       "\n",
       "[310916 rows x 2 columns]"
      ]
     },
     "execution_count": 3,
     "metadata": {},
     "output_type": "execute_result"
    }
   ],
   "source": [
    "import pandas as pd\n",
    "\n",
    "df = pd.read_csv('test_dataset.csv')\n",
    "df"
   ]
  },
  {
   "cell_type": "code",
   "execution_count": 4,
   "metadata": {},
   "outputs": [
    {
     "data": {
      "text/html": [
       "<div>\n",
       "<style scoped>\n",
       "    .dataframe tbody tr th:only-of-type {\n",
       "        vertical-align: middle;\n",
       "    }\n",
       "\n",
       "    .dataframe tbody tr th {\n",
       "        vertical-align: top;\n",
       "    }\n",
       "\n",
       "    .dataframe thead th {\n",
       "        text-align: right;\n",
       "    }\n",
       "</style>\n",
       "<table border=\"1\" class=\"dataframe\">\n",
       "  <thead>\n",
       "    <tr style=\"text-align: right;\">\n",
       "      <th></th>\n",
       "      <th>ch</th>\n",
       "      <th>ch_SC</th>\n",
       "    </tr>\n",
       "  </thead>\n",
       "  <tbody>\n",
       "    <tr>\n",
       "      <th>74022</th>\n",
       "      <td>而以目前的四件起訴案來看，聯邦調查局在過程中投入的人力物力之多，顯然是有強烈執法企圖心的。</td>\n",
       "      <td>而以目前的四件起诉案来看，联邦调查局在过程中投入的人力物力之多，显然是有强烈执法企图心的。</td>\n",
       "    </tr>\n",
       "  </tbody>\n",
       "</table>\n",
       "</div>"
      ],
      "text/plain": [
       "                                                  ch  \\\n",
       "74022  而以目前的四件起訴案來看，聯邦調查局在過程中投入的人力物力之多，顯然是有強烈執法企圖心的。   \n",
       "\n",
       "                                               ch_SC  \n",
       "74022  而以目前的四件起诉案来看，联邦调查局在过程中投入的人力物力之多，显然是有强烈执法企图心的。  "
      ]
     },
     "execution_count": 4,
     "metadata": {},
     "output_type": "execute_result"
    }
   ],
   "source": [
    "df[df['ch'] == '而以目前的四件起訴案來看，聯邦調查局在過程中投入的人力物力之多，顯然是有強烈執法企圖心的。']"
   ]
  },
  {
   "cell_type": "code",
   "execution_count": null,
   "metadata": {},
   "outputs": [],
   "source": []
  }
 ],
 "metadata": {
  "kernelspec": {
   "display_name": "base",
   "language": "python",
   "name": "python3"
  },
  "language_info": {
   "codemirror_mode": {
    "name": "ipython",
    "version": 3
   },
   "file_extension": ".py",
   "mimetype": "text/x-python",
   "name": "python",
   "nbconvert_exporter": "python",
   "pygments_lexer": "ipython3",
   "version": "3.9.12"
  }
 },
 "nbformat": 4,
 "nbformat_minor": 2
}
