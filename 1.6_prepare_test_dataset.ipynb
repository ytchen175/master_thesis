{
 "cells": [
  {
   "cell_type": "code",
   "execution_count": 1,
   "metadata": {},
   "outputs": [],
   "source": [
    "import opencc\n",
    "from datasets import load_dataset\n",
    "\n",
    "t2s_converter = opencc.OpenCC('t2s.json')\n",
    "\n",
    "\"\"\"traditional chinese to simplified chinese\"\"\"\n",
    "def convert_TC_to_SC(zhtw_text: str, converter=None):\n",
    "    if not converter:\n",
    "        converter = opencc.OpenCC('t2s.json')\n",
    "    return converter.convert(zhtw_text)"
   ]
  },
  {
   "cell_type": "code",
   "execution_count": 2,
   "metadata": {},
   "outputs": [
    {
     "name": "stdout",
     "output_type": "stream",
     "text": [
      "---Test dataset---\n",
      "Dataset({\n",
      "    features: ['en', 'ch'],\n",
      "    num_rows: 310916\n",
      "})\n"
     ]
    }
   ],
   "source": [
    "test_dataset = load_dataset('parquet', data_files='zetavgcoct_en-zh-tw-translations-twp-300k.parquet', split='train')\n",
    "\n",
    "print(\"---Test dataset---\")\n",
    "print(test_dataset)"
   ]
  },
  {
   "cell_type": "code",
   "execution_count": 3,
   "metadata": {},
   "outputs": [],
   "source": [
    "# convert output to pandas dataframe\n",
    "test_dataset.set_format(type='pandas', columns=['en', 'ch'])\n",
    "\n",
    "test_df = test_dataset[:]"
   ]
  },
  {
   "cell_type": "code",
   "execution_count": 4,
   "metadata": {},
   "outputs": [],
   "source": [
    "# 處理 dataset\n",
    "test_df['ch_SC'] = test_df['ch'].apply(lambda x: convert_TC_to_SC(x))\n",
    "del test_df['en']"
   ]
  },
  {
   "cell_type": "code",
   "execution_count": 5,
   "metadata": {},
   "outputs": [
    {
     "data": {
      "text/html": [
       "<div>\n",
       "<style scoped>\n",
       "    .dataframe tbody tr th:only-of-type {\n",
       "        vertical-align: middle;\n",
       "    }\n",
       "\n",
       "    .dataframe tbody tr th {\n",
       "        vertical-align: top;\n",
       "    }\n",
       "\n",
       "    .dataframe thead th {\n",
       "        text-align: right;\n",
       "    }\n",
       "</style>\n",
       "<table border=\"1\" class=\"dataframe\">\n",
       "  <thead>\n",
       "    <tr style=\"text-align: right;\">\n",
       "      <th></th>\n",
       "      <th>ch</th>\n",
       "      <th>ch_SC</th>\n",
       "    </tr>\n",
       "  </thead>\n",
       "  <tbody>\n",
       "    <tr>\n",
       "      <th>0</th>\n",
       "      <td>而在中時報系以不堪虧損為由捨棄晚報的同時，另方面卻持續入股中天電視台，並有意在未來收購中視，...</td>\n",
       "      <td>而在中时报系以不堪亏损为由舍弃晚报的同时，另方面却持续入股中天电视台，并有意在未来收购中视，...</td>\n",
       "    </tr>\n",
       "    <tr>\n",
       "      <th>1</th>\n",
       "      <td>終戰後的十餘年間，可說是歌仔戲的黃金時代，人才輩出，除了活躍於戲院舞台的「內台戲」外，還有「...</td>\n",
       "      <td>终战后的十余年间，可说是歌仔戏的黄金时代，人才辈出，除了活跃於戏院舞台的「内台戏」外，还有「...</td>\n",
       "    </tr>\n",
       "    <tr>\n",
       "      <th>2</th>\n",
       "      <td>「國民美術」以非學院派美術基調的發展過程，巧妙地與 1998 年國內社區大學興起的「解放知識...</td>\n",
       "      <td>「国民美术」以非学院派美术基调的发展过程，巧妙地与 1998 年国内社区大学兴起的「解放知识...</td>\n",
       "    </tr>\n",
       "    <tr>\n",
       "      <th>3</th>\n",
       "      <td>汐止社大主任潘英海表示：「國民美術像集體參與的美術豐年祭，劉秀美在社區成立畫會，建構集體記憶...</td>\n",
       "      <td>汐止社大主任潘英海表示：「国民美术像集体参与的美术丰年祭，刘秀美在社区成立画会，建构集体记忆...</td>\n",
       "    </tr>\n",
       "    <tr>\n",
       "      <th>4</th>\n",
       "      <td>例如日治時期祖父在金瓜石經營「鈔利搗礦場」的鄭炯輝，將當時用水車淘洗金砂的過程，一一用圖畫記...</td>\n",
       "      <td>例如日治时期祖父在金瓜石经营「钞利捣矿场」的郑炯辉，将当时用水车淘洗金砂的过程，一一用图画记...</td>\n",
       "    </tr>\n",
       "    <tr>\n",
       "      <th>...</th>\n",
       "      <td>...</td>\n",
       "      <td>...</td>\n",
       "    </tr>\n",
       "    <tr>\n",
       "      <th>310911</th>\n",
       "      <td>誰來對抗資本主義？</td>\n",
       "      <td>谁来对抗资本主义？</td>\n",
       "    </tr>\n",
       "    <tr>\n",
       "      <th>310912</th>\n",
       "      <td>在西畫荒漠中披荊斬棘</td>\n",
       "      <td>在西画荒漠中披荆斩棘</td>\n",
       "    </tr>\n",
       "    <tr>\n",
       "      <th>310913</th>\n",
       "      <td>我怕！」</td>\n",
       "      <td>我怕！」</td>\n",
       "    </tr>\n",
       "    <tr>\n",
       "      <th>310914</th>\n",
       "      <td>多麼主觀傲慢！</td>\n",
       "      <td>多么主观傲慢！</td>\n",
       "    </tr>\n",
       "    <tr>\n",
       "      <th>310915</th>\n",
       "      <td>不只是給一條魚﹘﹘中華民國駐史瓦濟蘭技術服務</td>\n",
       "      <td>不只是给一条鱼﹘﹘中华民国驻史瓦济兰技术服务</td>\n",
       "    </tr>\n",
       "  </tbody>\n",
       "</table>\n",
       "<p>310916 rows × 2 columns</p>\n",
       "</div>"
      ],
      "text/plain": [
       "                                                       ch  \\\n",
       "0       而在中時報系以不堪虧損為由捨棄晚報的同時，另方面卻持續入股中天電視台，並有意在未來收購中視，...   \n",
       "1       終戰後的十餘年間，可說是歌仔戲的黃金時代，人才輩出，除了活躍於戲院舞台的「內台戲」外，還有「...   \n",
       "2       「國民美術」以非學院派美術基調的發展過程，巧妙地與 1998 年國內社區大學興起的「解放知識...   \n",
       "3       汐止社大主任潘英海表示：「國民美術像集體參與的美術豐年祭，劉秀美在社區成立畫會，建構集體記憶...   \n",
       "4       例如日治時期祖父在金瓜石經營「鈔利搗礦場」的鄭炯輝，將當時用水車淘洗金砂的過程，一一用圖畫記...   \n",
       "...                                                   ...   \n",
       "310911                                          誰來對抗資本主義？   \n",
       "310912                                         在西畫荒漠中披荊斬棘   \n",
       "310913                                               我怕！」   \n",
       "310914                                            多麼主觀傲慢！   \n",
       "310915                             不只是給一條魚﹘﹘中華民國駐史瓦濟蘭技術服務   \n",
       "\n",
       "                                                    ch_SC  \n",
       "0       而在中时报系以不堪亏损为由舍弃晚报的同时，另方面却持续入股中天电视台，并有意在未来收购中视，...  \n",
       "1       终战后的十余年间，可说是歌仔戏的黄金时代，人才辈出，除了活跃於戏院舞台的「内台戏」外，还有「...  \n",
       "2       「国民美术」以非学院派美术基调的发展过程，巧妙地与 1998 年国内社区大学兴起的「解放知识...  \n",
       "3       汐止社大主任潘英海表示：「国民美术像集体参与的美术丰年祭，刘秀美在社区成立画会，建构集体记忆...  \n",
       "4       例如日治时期祖父在金瓜石经营「钞利捣矿场」的郑炯辉，将当时用水车淘洗金砂的过程，一一用图画记...  \n",
       "...                                                   ...  \n",
       "310911                                          谁来对抗资本主义？  \n",
       "310912                                         在西画荒漠中披荆斩棘  \n",
       "310913                                               我怕！」  \n",
       "310914                                            多么主观傲慢！  \n",
       "310915                             不只是给一条鱼﹘﹘中华民国驻史瓦济兰技术服务  \n",
       "\n",
       "[310916 rows x 2 columns]"
      ]
     },
     "execution_count": 5,
     "metadata": {},
     "output_type": "execute_result"
    }
   ],
   "source": [
    "test_df"
   ]
  },
  {
   "cell_type": "code",
   "execution_count": 6,
   "metadata": {},
   "outputs": [],
   "source": [
    "test_df[['ch', 'ch_SC']].to_csv('COCT-twp-300k.csv', index=0)"
   ]
  },
  {
   "cell_type": "code",
   "execution_count": null,
   "metadata": {},
   "outputs": [],
   "source": []
  },
  {
   "cell_type": "code",
   "execution_count": null,
   "metadata": {},
   "outputs": [],
   "source": []
  }
 ],
 "metadata": {
  "kernelspec": {
   "display_name": "Python 3",
   "language": "python",
   "name": "python3"
  },
  "language_info": {
   "codemirror_mode": {
    "name": "ipython",
    "version": 3
   },
   "file_extension": ".py",
   "mimetype": "text/x-python",
   "name": "python",
   "nbconvert_exporter": "python",
   "pygments_lexer": "ipython3",
   "version": "3.11.5"
  },
  "orig_nbformat": 4
 },
 "nbformat": 4,
 "nbformat_minor": 2
}
