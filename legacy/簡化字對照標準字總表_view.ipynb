{
 "cells": [
  {
   "cell_type": "code",
   "execution_count": 4,
   "metadata": {},
   "outputs": [],
   "source": [
    "import json\n",
    "import pandas as pd\n",
    "\n",
    "with open('簡化字對照標準字總表.json', encoding='utf-8') as f:\n",
    "    j = json.load(f)"
   ]
  },
  {
   "cell_type": "code",
   "execution_count": 18,
   "metadata": {},
   "outputs": [],
   "source": [
    "symmetric_word = []\n",
    "not_symmetric_word = []\n",
    "\n",
    "for i in j.items():\n",
    "    if i[1]['非對稱簡繁字']:\n",
    "        not_symmetric_word.append(i[0])\n",
    "    else:\n",
    "        symmetric_word.append(i[0])"
   ]
  },
  {
   "cell_type": "code",
   "execution_count": 21,
   "metadata": {},
   "outputs": [
    {
     "name": "stdout",
     "output_type": "stream",
     "text": [
      "symmetric count: 4479\n",
      "not symmetric count: 158\n"
     ]
    }
   ],
   "source": [
    "print('symmetric count: ' + str(len(symmetric_word)))\n",
    "print('not symmetric count: ' + str(len(not_symmetric_word)))"
   ]
  },
  {
   "cell_type": "code",
   "execution_count": 30,
   "metadata": {},
   "outputs": [
    {
     "data": {
      "text/html": [
       "<div>\n",
       "<style scoped>\n",
       "    .dataframe tbody tr th:only-of-type {\n",
       "        vertical-align: middle;\n",
       "    }\n",
       "\n",
       "    .dataframe tbody tr th {\n",
       "        vertical-align: top;\n",
       "    }\n",
       "\n",
       "    .dataframe thead th {\n",
       "        text-align: right;\n",
       "    }\n",
       "</style>\n",
       "<table border=\"1\" class=\"dataframe\">\n",
       "  <thead>\n",
       "    <tr style=\"text-align: right;\">\n",
       "      <th></th>\n",
       "      <th>簡體字</th>\n",
       "      <th>正體字</th>\n",
       "      <th>非對稱簡繁字</th>\n",
       "    </tr>\n",
       "  </thead>\n",
       "  <tbody>\n",
       "    <tr>\n",
       "      <th>0</th>\n",
       "      <td>卜</td>\n",
       "      <td>[卜, 蔔]</td>\n",
       "      <td>True</td>\n",
       "    </tr>\n",
       "    <tr>\n",
       "      <th>1</th>\n",
       "      <td>叉</td>\n",
       "      <td>[叉]</td>\n",
       "      <td>False</td>\n",
       "    </tr>\n",
       "    <tr>\n",
       "      <th>2</th>\n",
       "      <td>一</td>\n",
       "      <td>[一]</td>\n",
       "      <td>False</td>\n",
       "    </tr>\n",
       "    <tr>\n",
       "      <th>3</th>\n",
       "      <td>又</td>\n",
       "      <td>[又]</td>\n",
       "      <td>False</td>\n",
       "    </tr>\n",
       "    <tr>\n",
       "      <th>4</th>\n",
       "      <td>口</td>\n",
       "      <td>[口]</td>\n",
       "      <td>False</td>\n",
       "    </tr>\n",
       "    <tr>\n",
       "      <th>...</th>\n",
       "      <td>...</td>\n",
       "      <td>...</td>\n",
       "      <td>...</td>\n",
       "    </tr>\n",
       "    <tr>\n",
       "      <th>4632</th>\n",
       "      <td>钻</td>\n",
       "      <td>[鑽]</td>\n",
       "      <td>False</td>\n",
       "    </tr>\n",
       "    <tr>\n",
       "      <th>4633</th>\n",
       "      <td>箩</td>\n",
       "      <td>[籮]</td>\n",
       "      <td>False</td>\n",
       "    </tr>\n",
       "    <tr>\n",
       "      <th>4634</th>\n",
       "      <td>銮</td>\n",
       "      <td>[鑾]</td>\n",
       "      <td>False</td>\n",
       "    </tr>\n",
       "    <tr>\n",
       "      <th>4635</th>\n",
       "      <td>蛮</td>\n",
       "      <td>[蠻]</td>\n",
       "      <td>False</td>\n",
       "    </tr>\n",
       "    <tr>\n",
       "      <th>4636</th>\n",
       "      <td>锣</td>\n",
       "      <td>[鑼]</td>\n",
       "      <td>False</td>\n",
       "    </tr>\n",
       "  </tbody>\n",
       "</table>\n",
       "<p>4637 rows × 3 columns</p>\n",
       "</div>"
      ],
      "text/plain": [
       "     簡體字     正體字  非對稱簡繁字\n",
       "0      卜  [卜, 蔔]    True\n",
       "1      叉     [叉]   False\n",
       "2      一     [一]   False\n",
       "3      又     [又]   False\n",
       "4      口     [口]   False\n",
       "...   ..     ...     ...\n",
       "4632   钻     [鑽]   False\n",
       "4633   箩     [籮]   False\n",
       "4634   銮     [鑾]   False\n",
       "4635   蛮     [蠻]   False\n",
       "4636   锣     [鑼]   False\n",
       "\n",
       "[4637 rows x 3 columns]"
      ]
     },
     "execution_count": 30,
     "metadata": {},
     "output_type": "execute_result"
    }
   ],
   "source": [
    "df = pd.DataFrame.from_dict(j, orient='index')\n",
    "df.reset_index(level=0, inplace=True)\n",
    "df.columns = ['簡體字', '正體字', '非對稱簡繁字']\n",
    "\n",
    "df"
   ]
  },
  {
   "cell_type": "code",
   "execution_count": 32,
   "metadata": {},
   "outputs": [],
   "source": [
    "# df.to_csv('簡化字對照標準字總表.csv', encoding='utf-8', index=False)"
   ]
  },
  {
   "cell_type": "code",
   "execution_count": null,
   "metadata": {},
   "outputs": [],
   "source": []
  }
 ],
 "metadata": {
  "kernelspec": {
   "display_name": "Python 3",
   "language": "python",
   "name": "python3"
  },
  "language_info": {
   "codemirror_mode": {
    "name": "ipython",
    "version": 3
   },
   "file_extension": ".py",
   "mimetype": "text/x-python",
   "name": "python",
   "nbconvert_exporter": "python",
   "pygments_lexer": "ipython3",
   "version": "3.10.9"
  },
  "orig_nbformat": 4,
  "vscode": {
   "interpreter": {
    "hash": "5883070d73d69761e5dc73f4a05332376c378d715fb628e8501a42018137b84c"
   }
  }
 },
 "nbformat": 4,
 "nbformat_minor": 2
}
