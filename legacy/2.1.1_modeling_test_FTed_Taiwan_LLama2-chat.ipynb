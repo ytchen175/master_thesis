{
 "cells": [
  {
   "cell_type": "code",
   "execution_count": 1,
   "metadata": {},
   "outputs": [
    {
     "name": "stdout",
     "output_type": "stream",
     "text": [
      "\n",
      "===================================BUG REPORT===================================\n",
      "Welcome to bitsandbytes. For bug reports, please run\n",
      "\n",
      "python -m bitsandbytes\n",
      "\n",
      " and submit this information together with your error trace to: https://github.com/TimDettmers/bitsandbytes/issues\n",
      "================================================================================\n",
      "bin /home/wirl/anaconda3/lib/python3.11/site-packages/bitsandbytes/libbitsandbytes_cuda118.so\n",
      "CUDA SETUP: CUDA runtime path found: /home/wirl/anaconda3/lib/libcudart.so.11.0\n",
      "CUDA SETUP: Highest compute capability among GPUs detected: 8.6\n",
      "CUDA SETUP: Detected CUDA version 118\n",
      "CUDA SETUP: Loading binary /home/wirl/anaconda3/lib/python3.11/site-packages/bitsandbytes/libbitsandbytes_cuda118.so...\n"
     ]
    },
    {
     "name": "stderr",
     "output_type": "stream",
     "text": [
      "/home/wirl/anaconda3/lib/python3.11/site-packages/bitsandbytes/cuda_setup/main.py:149: UserWarning: Found duplicate ['libcudart.so', 'libcudart.so.11.0', 'libcudart.so.12.0'] files: {PosixPath('/home/wirl/anaconda3/lib/libcudart.so.11.0'), PosixPath('/home/wirl/anaconda3/lib/libcudart.so')}.. We'll flip a coin and try one of these, in order to fail forward.\n",
      "Either way, this might cause trouble in the future:\n",
      "If you get `CUDA error: invalid device function` errors, the above might be the cause and the solution is to make sure only one ['libcudart.so', 'libcudart.so.11.0', 'libcudart.so.12.0'] in the paths that we search based on your env.\n",
      "  warn(msg)\n",
      "You are using the legacy behaviour of the <class 'transformers.models.llama.tokenization_llama.LlamaTokenizer'>. This means that tokens that come after special tokens will not be properly handled. We recommend you to read the related pull request available at https://github.com/huggingface/transformers/pull/24565\n"
     ]
    },
    {
     "name": "stdout",
     "output_type": "stream",
     "text": [
      "Using ft_num=1250 model.\n"
     ]
    },
    {
     "data": {
      "application/vnd.jupyter.widget-view+json": {
       "model_id": "876d9f61a68a4e859befd892de7adf1d",
       "version_major": 2,
       "version_minor": 0
      },
      "text/plain": [
       "Loading checkpoint shards:   0%|          | 0/2 [00:00<?, ?it/s]"
      ]
     },
     "metadata": {},
     "output_type": "display_data"
    },
    {
     "name": "stderr",
     "output_type": "stream",
     "text": [
      "Some weights of LlamaForCausalLM were not initialized from the model checkpoint at /home/wirl/ytc/Taiwan-LLM-7B-v2.0.1-chat_local and are newly initialized: ['model.layers.4.self_attn.rotary_emb.inv_freq', 'model.layers.6.self_attn.rotary_emb.inv_freq', 'model.layers.26.self_attn.rotary_emb.inv_freq', 'model.layers.5.self_attn.rotary_emb.inv_freq', 'model.layers.23.self_attn.rotary_emb.inv_freq', 'model.layers.18.self_attn.rotary_emb.inv_freq', 'model.layers.30.self_attn.rotary_emb.inv_freq', 'model.layers.17.self_attn.rotary_emb.inv_freq', 'model.layers.12.self_attn.rotary_emb.inv_freq', 'model.layers.3.self_attn.rotary_emb.inv_freq', 'model.layers.7.self_attn.rotary_emb.inv_freq', 'model.layers.19.self_attn.rotary_emb.inv_freq', 'model.layers.29.self_attn.rotary_emb.inv_freq', 'model.layers.14.self_attn.rotary_emb.inv_freq', 'model.layers.31.self_attn.rotary_emb.inv_freq', 'model.layers.16.self_attn.rotary_emb.inv_freq', 'model.layers.9.self_attn.rotary_emb.inv_freq', 'model.layers.24.self_attn.rotary_emb.inv_freq', 'model.layers.8.self_attn.rotary_emb.inv_freq', 'model.layers.2.self_attn.rotary_emb.inv_freq', 'model.layers.0.self_attn.rotary_emb.inv_freq', 'model.layers.1.self_attn.rotary_emb.inv_freq', 'model.layers.21.self_attn.rotary_emb.inv_freq', 'model.layers.27.self_attn.rotary_emb.inv_freq', 'model.layers.10.self_attn.rotary_emb.inv_freq', 'model.layers.25.self_attn.rotary_emb.inv_freq', 'model.layers.28.self_attn.rotary_emb.inv_freq', 'model.layers.15.self_attn.rotary_emb.inv_freq', 'model.layers.20.self_attn.rotary_emb.inv_freq', 'model.layers.13.self_attn.rotary_emb.inv_freq', 'model.layers.11.self_attn.rotary_emb.inv_freq', 'model.layers.22.self_attn.rotary_emb.inv_freq']\n",
      "You should probably TRAIN this model on a down-stream task to be able to use it for predictions and inference.\n"
     ]
    },
    {
     "name": "stdout",
     "output_type": "stream",
     "text": [
      "Using GPU: NVIDIA GeForce RTX 3080 Ti\n"
     ]
    }
   ],
   "source": [
    "import torch\n",
    "import warnings\n",
    "from datasets import load_dataset\n",
    "from transformers import AutoTokenizer, AutoModelForCausalLM\n",
    "from transformers import LlamaTokenizer\n",
    "from peft import AutoPeftModelForCausalLM\n",
    "\n",
    "warnings.filterwarnings(\"ignore\")\n",
    "\n",
    "PATH = \"/home/wirl/ytc/Taiwan-LLM-7B-v2.0.1-chat_local\"\n",
    "\n",
    "def init_model(ft_num):\n",
    "    # adapter_model_path = f\"/home/wirl/ytc/要寫的論文研究/code/qlora/output/checkpoint-{ft_num}\"\n",
    "    adapter_model_path = f\"/home/wirl/ytc/要寫的論文研究/code/qlora2/output/checkpoint-{ft_num}\"\n",
    "\n",
    "    print(f\"Using ft_num={ft_num} model.\")\n",
    "\n",
    "    # https://github.com/artidoro/qlora/issues/29#issuecomment-1737072311\n",
    "    model = AutoPeftModelForCausalLM.from_pretrained(\n",
    "        adapter_model_path,\n",
    "        local_files_only=True, \n",
    "        load_in_4bit=True, \n",
    "    )\n",
    "    return model\n",
    "\n",
    "FT_NUM = 1250\n",
    "\n",
    "tokenizer = LlamaTokenizer.from_pretrained(PATH, local_files_only=True, legacy=True)\n",
    "model = init_model(FT_NUM)\n",
    "\n",
    "if torch.cuda.is_available():\n",
    "    print(f\"Using GPU: {torch.cuda.get_device_name(0)}\")"
   ]
  },
  {
   "cell_type": "code",
   "execution_count": 2,
   "metadata": {},
   "outputs": [
    {
     "name": "stdout",
     "output_type": "stream",
     "text": [
      "網路的使用，拉近了大眾和災區之間的距離，更讓偏遠地區的\n"
     ]
    }
   ],
   "source": [
    "translate_prompt_template = \"\"\"\n",
    "### Instruction:\n",
    "翻譯成繁體中文: {}\n",
    "### Response:\n",
    "\"\"\"\n",
    "# translate_prompt_template = \"\"\"\n",
    "# 翻譯成繁體中文: {}\n",
    "# 輸出:\n",
    "# \"\"\"\n",
    "\n",
    "def get_response(tokenizer, model, prompt_template, sentence_text, remove_input=True):\n",
    "    device = \"cuda:0\"\n",
    "    full_prompt = prompt_template.format(sentence_text)\n",
    "\n",
    "    # temperature, top_p, and top_k are only active when do_sample=True\n",
    "    # if you set Top-k to 10, the LLM will only consider the 10 most probable next words. \n",
    "    # This will result in more fluent text, but it will also reduce the diversity of the text. \n",
    "    # TOP_K = 30\n",
    "    TOP_K = 50\n",
    "    # TOP_K = 70\n",
    "    # If you set Top-p to 0.9, the LLM will only generate words that have a probability of at least 0.9. \n",
    "    # This will result in more diverse text, but it could also result in less fluent text.\n",
    "    TOP_P = 0.95\n",
    "    # TOP_P = 1.0\n",
    "\n",
    "    # TEMP = 1.0 # don't specify\n",
    "\n",
    "    inputs = tokenizer(full_prompt, return_tensors=\"pt\").to(device)\n",
    "\n",
    "    # outputs = model.generate(**inputs, max_new_tokens=len(sentence_text))\n",
    "    outputs = model.generate(\n",
    "        **inputs, \n",
    "        max_new_tokens=len(sentence_text), \n",
    "        do_sample=True, \n",
    "        # temperature=TEMP,\n",
    "        top_k=TOP_K, \n",
    "        top_p=TOP_P, \n",
    "        num_return_sequences=1,\n",
    "    ) # for translation, https://huggingface.co/docs/transformers/tasks/translation#inference\n",
    "\n",
    "    decoded_output = tokenizer.decode(outputs[0], skip_special_tokens=True)\n",
    "\n",
    "    if remove_input:\n",
    "        # 從 generate 出來的 output 中刪除 input text 的部分\n",
    "        cleaned_output = decoded_output.replace(full_prompt, \"\")\n",
    "        return cleaned_output\n",
    "    else:\n",
    "        return decoded_output\n",
    "\n",
    "org_sentence = \"网路的使用，拉近了大众和灾区之间的距离，更让偏远地区的农民有了直接面对消费者的管道。\"\n",
    "\n",
    "model_response = get_response(tokenizer, model, translate_prompt_template, org_sentence).strip() # LLM\n",
    "print(model_response)"
   ]
  },
  {
   "cell_type": "code",
   "execution_count": 3,
   "metadata": {},
   "outputs": [
    {
     "name": "stdout",
     "output_type": "stream",
     "text": [
      "網路的使用，拉近了大眾和災區之間的距離，更讓偏遠地區的農民有了直接面對消費者的管道。\n"
     ]
    }
   ],
   "source": [
    "translate_prompt_template = \"\"\"\n",
    "### Instruction:\n",
    "翻譯成繁體中文: {}\n",
    "### Response:\n",
    "\"\"\"\n",
    "# translate_prompt_template = \"\"\"\n",
    "# 翻譯成繁體中文: {}\n",
    "# 輸出:\n",
    "# \"\"\"\n",
    "\n",
    "def get_response(tokenizer, model, prompt_template, sentence_text, remove_input=True):\n",
    "    device = \"cuda:0\"\n",
    "    full_prompt = prompt_template.format(sentence_text)\n",
    "\n",
    "    # temperature, top_p, and top_k are only active when do_sample=True\n",
    "    # if you set Top-k to 10, the LLM will only consider the 10 most probable next words. \n",
    "    # This will result in more fluent text, but it will also reduce the diversity of the text. \n",
    "    # TOP_K = 30\n",
    "    TOP_K = 50\n",
    "    # TOP_K = 70\n",
    "    # If you set Top-p to 0.9, the LLM will only generate words that have a probability of at least 0.9. \n",
    "    # This will result in more diverse text, but it could also result in less fluent text.\n",
    "    TOP_P = 0.95\n",
    "    # TOP_P = 1.0\n",
    "\n",
    "    # TEMP = 1.0 # don't specify\n",
    "\n",
    "    inputs = tokenizer(full_prompt, return_tensors=\"pt\").to(device)\n",
    "\n",
    "    # outputs = model.generate(**inputs, max_new_tokens=len(sentence_text))\n",
    "    outputs = model.generate(\n",
    "        **inputs, \n",
    "        max_new_tokens=len(sentence_text) * 2, \n",
    "        do_sample=True, \n",
    "        # temperature=TEMP,\n",
    "        top_k=TOP_K, \n",
    "        top_p=TOP_P, \n",
    "        num_return_sequences=1,\n",
    "    ) # for translation, https://huggingface.co/docs/transformers/tasks/translation#inference\n",
    "\n",
    "    decoded_output = tokenizer.decode(outputs[0], skip_special_tokens=True)\n",
    "\n",
    "    if remove_input:\n",
    "        # 從 generate 出來的 output 中刪除 input text 的部分\n",
    "        cleaned_output = decoded_output.replace(full_prompt, \"\")\n",
    "        return cleaned_output\n",
    "    else:\n",
    "        return decoded_output\n",
    "\n",
    "org_sentence = \"网路的使用，拉近了大众和灾区之间的距离，更让偏远地区的农民有了直接面对消费者的管道。\"\n",
    "\n",
    "model_response = get_response(tokenizer, model, translate_prompt_template, org_sentence).strip() # LLM\n",
    "print(model_response)"
   ]
  },
  {
   "cell_type": "code",
   "execution_count": null,
   "metadata": {},
   "outputs": [],
   "source": []
  }
 ],
 "metadata": {
  "kernelspec": {
   "display_name": "s_paper",
   "language": "python",
   "name": "python3"
  },
  "language_info": {
   "codemirror_mode": {
    "name": "ipython",
    "version": 3
   },
   "file_extension": ".py",
   "mimetype": "text/x-python",
   "name": "python",
   "nbconvert_exporter": "python",
   "pygments_lexer": "ipython3",
   "version": "3.11.5"
  },
  "orig_nbformat": 4
 },
 "nbformat": 4,
 "nbformat_minor": 2
}
