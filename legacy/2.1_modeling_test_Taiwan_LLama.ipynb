{
 "cells": [
  {
   "cell_type": "code",
   "execution_count": 1,
   "metadata": {},
   "outputs": [
    {
     "data": {
      "application/vnd.jupyter.widget-view+json": {
       "model_id": "07ea16b59d904af887cf8c2fda3064f5",
       "version_major": 2,
       "version_minor": 0
      },
      "text/plain": [
       "Loading checkpoint shards:   0%|          | 0/3 [00:00<?, ?it/s]"
      ]
     },
     "metadata": {},
     "output_type": "display_data"
    },
    {
     "name": "stdout",
     "output_type": "stream",
     "text": [
      "Using GPU: NVIDIA GeForce RTX 3080 Ti\n"
     ]
    }
   ],
   "source": [
    "import torch\n",
    "import warnings\n",
    "from datasets import load_dataset\n",
    "from transformers import AutoTokenizer, AutoModelForCausalLM\n",
    "\n",
    "warnings.filterwarnings(\"ignore\")\n",
    "\n",
    "PATH = '/home/wirl/ytc/Taiwan-LLaMa-v1.0_自己下載的'\n",
    "\n",
    "# ref: https://huggingface.co/blog/4bit-transformers-bitsandbytes\n",
    "tokenizer = AutoTokenizer.from_pretrained(PATH, local_files_only=True)\n",
    "model = AutoModelForCausalLM.from_pretrained(PATH, local_files_only=True, load_in_4bit=True, device_map=\"auto\")\n",
    "\n",
    "eos_token_id = tokenizer.eos_token_id\n",
    "\n",
    "if torch.cuda.is_available():\n",
    "    print(f\"Using GPU: {torch.cuda.get_device_name(0)}\")"
   ]
  },
  {
   "cell_type": "code",
   "execution_count": 3,
   "metadata": {},
   "outputs": [
    {
     "name": "stdout",
     "output_type": "stream",
     "text": [
      "「笑死 林智堅怎麼可能沒有抄襲」 專注分析: 「笑死 林智堅怎麼可能沒有抄襲」 專注分析: 「笑死 林智堅怎麼可能沒有抄襲」 專注分析: 「笑死 林智堅怎麼可能沒有抄襲」 專注分析: 「笑死 林智堅怎麼可能沒有抄襲」 專注\n"
     ]
    }
   ],
   "source": [
    "sentence = \"笑死 林智堅怎麼可能沒有抄襲\"\n",
    "text = f\"請分析這句話的立場並給予正面/中立/負面的三種分數: 「{sentence}」 情感分析:\"\n",
    "device = \"cuda:0\"\n",
    "\n",
    "inputs = tokenizer(text, return_tensors=\"pt\").to(device)\n",
    "# outputs = model.generate(**inputs, max_new_tokens=20)\n",
    "outputs = model.generate(**inputs, max_new_tokens=200)\n",
    "decoded_output = tokenizer.decode(outputs[0], skip_special_tokens=True)\n",
    "\n",
    "# 從 generate 出來的 output 中刪除 input text 的部分\n",
    "cleaned_output = decoded_output.replace(text, \"\").strip()\n",
    "print(cleaned_output)"
   ]
  },
  {
   "cell_type": "code",
   "execution_count": null,
   "metadata": {},
   "outputs": [],
   "source": []
  }
 ],
 "metadata": {
  "kernelspec": {
   "display_name": "s_paper",
   "language": "python",
   "name": "python3"
  },
  "language_info": {
   "codemirror_mode": {
    "name": "ipython",
    "version": 3
   },
   "file_extension": ".py",
   "mimetype": "text/x-python",
   "name": "python",
   "nbconvert_exporter": "python",
   "pygments_lexer": "ipython3",
   "version": "3.9.12"
  },
  "orig_nbformat": 4
 },
 "nbformat": 4,
 "nbformat_minor": 2
}
