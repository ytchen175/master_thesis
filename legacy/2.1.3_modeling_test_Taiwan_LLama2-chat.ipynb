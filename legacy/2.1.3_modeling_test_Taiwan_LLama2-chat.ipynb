{
 "cells": [
  {
   "cell_type": "code",
   "execution_count": 1,
   "metadata": {},
   "outputs": [
    {
     "name": "stdout",
     "output_type": "stream",
     "text": [
      "\n",
      "===================================BUG REPORT===================================\n",
      "Welcome to bitsandbytes. For bug reports, please run\n",
      "\n",
      "python -m bitsandbytes\n",
      "\n",
      " and submit this information together with your error trace to: https://github.com/TimDettmers/bitsandbytes/issues\n",
      "================================================================================\n",
      "bin /home/wirl/anaconda3/lib/python3.11/site-packages/bitsandbytes/libbitsandbytes_cuda118.so\n",
      "CUDA SETUP: CUDA runtime path found: /home/wirl/anaconda3/lib/libcudart.so\n",
      "CUDA SETUP: Highest compute capability among GPUs detected: 8.6\n",
      "CUDA SETUP: Detected CUDA version 118\n",
      "CUDA SETUP: Loading binary /home/wirl/anaconda3/lib/python3.11/site-packages/bitsandbytes/libbitsandbytes_cuda118.so...\n"
     ]
    },
    {
     "data": {
      "application/vnd.jupyter.widget-view+json": {
       "model_id": "46f8fc79b492442c9814d211a1bea69b",
       "version_major": 2,
       "version_minor": 0
      },
      "text/plain": [
       "Loading checkpoint shards:   0%|          | 0/2 [00:00<?, ?it/s]"
      ]
     },
     "metadata": {},
     "output_type": "display_data"
    },
    {
     "name": "stderr",
     "output_type": "stream",
     "text": [
      "Some weights of LlamaForCausalLM were not initialized from the model checkpoint at /home/wirl/ytc/Taiwan-LLM-7B-v2.0.1-chat_local and are newly initialized: ['model.layers.25.self_attn.rotary_emb.inv_freq', 'model.layers.6.self_attn.rotary_emb.inv_freq', 'model.layers.29.self_attn.rotary_emb.inv_freq', 'model.layers.5.self_attn.rotary_emb.inv_freq', 'model.layers.18.self_attn.rotary_emb.inv_freq', 'model.layers.15.self_attn.rotary_emb.inv_freq', 'model.layers.22.self_attn.rotary_emb.inv_freq', 'model.layers.9.self_attn.rotary_emb.inv_freq', 'model.layers.27.self_attn.rotary_emb.inv_freq', 'model.layers.13.self_attn.rotary_emb.inv_freq', 'model.layers.2.self_attn.rotary_emb.inv_freq', 'model.layers.30.self_attn.rotary_emb.inv_freq', 'model.layers.26.self_attn.rotary_emb.inv_freq', 'model.layers.17.self_attn.rotary_emb.inv_freq', 'model.layers.16.self_attn.rotary_emb.inv_freq', 'model.layers.11.self_attn.rotary_emb.inv_freq', 'model.layers.8.self_attn.rotary_emb.inv_freq', 'model.layers.20.self_attn.rotary_emb.inv_freq', 'model.layers.21.self_attn.rotary_emb.inv_freq', 'model.layers.0.self_attn.rotary_emb.inv_freq', 'model.layers.1.self_attn.rotary_emb.inv_freq', 'model.layers.12.self_attn.rotary_emb.inv_freq', 'model.layers.14.self_attn.rotary_emb.inv_freq', 'model.layers.24.self_attn.rotary_emb.inv_freq', 'model.layers.10.self_attn.rotary_emb.inv_freq', 'model.layers.19.self_attn.rotary_emb.inv_freq', 'model.layers.3.self_attn.rotary_emb.inv_freq', 'model.layers.23.self_attn.rotary_emb.inv_freq', 'model.layers.4.self_attn.rotary_emb.inv_freq', 'model.layers.7.self_attn.rotary_emb.inv_freq', 'model.layers.28.self_attn.rotary_emb.inv_freq', 'model.layers.31.self_attn.rotary_emb.inv_freq']\n",
      "You should probably TRAIN this model on a down-stream task to be able to use it for predictions and inference.\n"
     ]
    },
    {
     "name": "stdout",
     "output_type": "stream",
     "text": [
      "Using GPU: NVIDIA GeForce RTX 3080 Ti\n"
     ]
    }
   ],
   "source": [
    "import torch\n",
    "import warnings\n",
    "from datasets import load_dataset\n",
    "from transformers import AutoTokenizer, AutoModelForCausalLM\n",
    "\n",
    "warnings.filterwarnings(\"ignore\")\n",
    "\n",
    "PATH = \"/home/wirl/ytc/Taiwan-LLM-7B-v2.0.1-chat_local\"\n",
    "\n",
    "# ref: https://huggingface.co/blog/4bit-transformers-bitsandbytes\n",
    "tokenizer = AutoTokenizer.from_pretrained(PATH, local_files_only=True)\n",
    "model = AutoModelForCausalLM.from_pretrained(PATH, local_files_only=True, load_in_4bit=True, device_map=\"auto\")\n",
    "\n",
    "eos_token_id = tokenizer.eos_token_id\n",
    "\n",
    "if torch.cuda.is_available():\n",
    "    print(f\"Using GPU: {torch.cuda.get_device_name(0)}\")"
   ]
  },
  {
   "cell_type": "code",
   "execution_count": 10,
   "metadata": {},
   "outputs": [
    {
     "name": "stdout",
     "output_type": "stream",
     "text": [
      "網路的使用更是能夠拉近偏遠地區的農民與消費者之間的�����\n"
     ]
    }
   ],
   "source": [
    "# translate_prompt_template = \"\"\"\n",
    "# ### Instruction:\n",
    "# 翻譯成繁體中文: {}\n",
    "# ### Response:\n",
    "# \"\"\"\n",
    "translate_prompt_template = \"\"\"\n",
    "翻譯成繁體中文: {}\n",
    "輸出:\n",
    "\"\"\"\n",
    "\n",
    "def get_response(tokenizer, model, prompt_template, sentence_text, remove_input=True):\n",
    "    device = \"cuda:0\"\n",
    "    full_prompt = prompt_template.format(sentence_text)\n",
    "\n",
    "    # temperature, top_p, and top_k are only active when do_sample=True\n",
    "    # if you set Top-k to 10, the LLM will only consider the 10 most probable next words. \n",
    "    # This will result in more fluent text, but it will also reduce the diversity of the text. \n",
    "    # TOP_K = 30\n",
    "    TOP_K = 50\n",
    "    # TOP_K = 70\n",
    "    # If you set Top-p to 0.9, the LLM will only generate words that have a probability of at least 0.9. \n",
    "    # This will result in more diverse text, but it could also result in less fluent text.\n",
    "    TOP_P = 0.95\n",
    "    # TOP_P = 1.0\n",
    "\n",
    "    # TEMP = 1.0 # don't specify\n",
    "\n",
    "    inputs = tokenizer(full_prompt, return_tensors=\"pt\").to(device)\n",
    "\n",
    "    # outputs = model.generate(**inputs, max_new_tokens=len(sentence_text))\n",
    "    outputs = model.generate(\n",
    "        **inputs, \n",
    "        max_new_tokens=len(sentence_text), \n",
    "        do_sample=True, \n",
    "        # temperature=TEMP,\n",
    "        top_k=TOP_K, \n",
    "        top_p=TOP_P, \n",
    "        num_return_sequences=1,\n",
    "    ) # for translation, https://huggingface.co/docs/transformers/tasks/translation#inference\n",
    "\n",
    "    decoded_output = tokenizer.decode(outputs[0], skip_special_tokens=True)\n",
    "\n",
    "    if remove_input:\n",
    "        # 從 generate 出來的 output 中刪除 input text 的部分\n",
    "        cleaned_output = decoded_output.replace(full_prompt, \"\")\n",
    "        return cleaned_output\n",
    "    else:\n",
    "        return decoded_output\n",
    "\n",
    "org_sentence = \"网路的使用，拉近了大众和灾区之间的距离，更让偏远地区的农民有了直接面对消费者的管道。\"\n",
    "\n",
    "model_response = get_response(tokenizer, model, translate_prompt_template, org_sentence).strip() # LLM\n",
    "print(model_response)"
   ]
  },
  {
   "cell_type": "code",
   "execution_count": 6,
   "metadata": {},
   "outputs": [
    {
     "name": "stdout",
     "output_type": "stream",
     "text": [
      "笑死 林智�������\n"
     ]
    }
   ],
   "source": [
    "# prompt_template = \"\"\"\n",
    "# ### Instruction:\n",
    "# 請分析這句話的立場並給予正面/中立/負面的三種分數: 「{}」\n",
    "# ### Response:\n",
    "# 情感分析:\n",
    "# \"\"\"\n",
    "# prompt_template = \"{}\"\n",
    "prompt_template = \"請分析這句話的立場並給予正面/中立/負面的三種分數: 「{}」 情感分析:\"\n",
    "\n",
    "def get_response(tokenizer, model, prompt_template, sentence_text, remove_input=True):\n",
    "    device = \"cuda:0\"\n",
    "    full_prompt = prompt_template.format(sentence_text)\n",
    "\n",
    "    # temperature, top_p, and top_k are only active when do_sample=True\n",
    "    # if you set Top-k to 10, the LLM will only consider the 10 most probable next words. \n",
    "    # This will result in more fluent text, but it will also reduce the diversity of the text. \n",
    "    # TOP_K = 30\n",
    "    TOP_K = 50\n",
    "    # TOP_K = 70\n",
    "    # If you set Top-p to 0.9, the LLM will only generate words that have a probability of at least 0.9. \n",
    "    # This will result in more diverse text, but it could also result in less fluent text.\n",
    "    TOP_P = 0.95\n",
    "    # TOP_P = 1.0\n",
    "\n",
    "    # TEMP = 1.0 # don't specify\n",
    "\n",
    "    inputs = tokenizer(full_prompt, return_tensors=\"pt\").to(device)\n",
    "\n",
    "    # outputs = model.generate(**inputs, max_new_tokens=len(sentence_text))\n",
    "    outputs = model.generate(\n",
    "        **inputs, \n",
    "        max_new_tokens=len(sentence_text), \n",
    "        do_sample=True, \n",
    "        # temperature=TEMP,\n",
    "        top_k=TOP_K, \n",
    "        top_p=TOP_P, \n",
    "        num_return_sequences=1,\n",
    "    ) # for translation, https://huggingface.co/docs/transformers/tasks/translation#inference\n",
    "\n",
    "    decoded_output = tokenizer.decode(outputs[0], skip_special_tokens=True)\n",
    "\n",
    "    if remove_input:\n",
    "        # 從 generate 出來的 output 中刪除 input text 的部分\n",
    "        cleaned_output = decoded_output.replace(full_prompt, \"\")\n",
    "        return cleaned_output\n",
    "    else:\n",
    "        return decoded_output\n",
    "\n",
    "org_sentence = \"笑死 林智堅怎麼可能沒有抄襲\"\n",
    "# org_sentence = \"你好啊~\"\n",
    "\n",
    "model_response = get_response(tokenizer, model, translate_prompt_template, org_sentence).strip() # LLM\n",
    "print(model_response)"
   ]
  },
  {
   "cell_type": "code",
   "execution_count": 4,
   "metadata": {},
   "outputs": [
    {
     "ename": "NameError",
     "evalue": "name 'load_dataset' is not defined",
     "output_type": "error",
     "traceback": [
      "\u001b[0;31m---------------------------------------------------------------------------\u001b[0m",
      "\u001b[0;31mNameError\u001b[0m                                 Traceback (most recent call last)",
      "\u001b[1;32m/home/wirl/ytc/要寫的論文研究/code/2.1_modeling_test_Taiwan_LLama.ipynb Cell 4\u001b[0m in \u001b[0;36m1\n\u001b[0;32m----> <a href='vscode-notebook-cell://ssh-remote%2B140.124.183.34/home/wirl/ytc/%E8%A6%81%E5%AF%AB%E7%9A%84%E8%AB%96%E6%96%87%E7%A0%94%E7%A9%B6/code/2.1_modeling_test_Taiwan_LLama.ipynb#X24sdnNjb2RlLXJlbW90ZQ%3D%3D?line=0'>1</a>\u001b[0m dataset \u001b[39m=\u001b[39m load_dataset(\u001b[39m\"\u001b[39m\u001b[39mcsv\u001b[39m\u001b[39m\"\u001b[39m, data_files\u001b[39m=\u001b[39m\u001b[39m'\u001b[39m\u001b[39minstruction_datasets/chinese_cultural_history.csv\u001b[39m\u001b[39m'\u001b[39m, split\u001b[39m=\u001b[39m\u001b[39m'\u001b[39m\u001b[39mtrain\u001b[39m\u001b[39m'\u001b[39m)\n",
      "\u001b[0;31mNameError\u001b[0m: name 'load_dataset' is not defined"
     ]
    }
   ],
   "source": [
    "dataset = load_dataset(\"csv\", data_files='instruction_datasets/chinese_cultural_history.csv', split='train')"
   ]
  },
  {
   "cell_type": "code",
   "execution_count": 6,
   "metadata": {},
   "outputs": [
    {
     "ename": "NameError",
     "evalue": "name 'dataset' is not defined",
     "output_type": "error",
     "traceback": [
      "\u001b[0;31m---------------------------------------------------------------------------\u001b[0m",
      "\u001b[0;31mNameError\u001b[0m                                 Traceback (most recent call last)",
      "\u001b[1;32m/home/wirl/ytc/要寫的論文研究/code/2.1_modeling_test_Taiwan_LLama.ipynb Cell 6\u001b[0m in \u001b[0;36m1\n\u001b[0;32m----> <a href='vscode-notebook-cell://ssh-remote%2B140.124.183.34/home/wirl/ytc/%E8%A6%81%E5%AF%AB%E7%9A%84%E8%AB%96%E6%96%87%E7%A0%94%E7%A9%B6/code/2.1_modeling_test_Taiwan_LLama.ipynb#X26sdnNjb2RlLXJlbW90ZQ%3D%3D?line=0'>1</a>\u001b[0m output_texts \u001b[39m=\u001b[39m format_instruction_prompt(dataset)\n\u001b[1;32m      <a href='vscode-notebook-cell://ssh-remote%2B140.124.183.34/home/wirl/ytc/%E8%A6%81%E5%AF%AB%E7%9A%84%E8%AB%96%E6%96%87%E7%A0%94%E7%A9%B6/code/2.1_modeling_test_Taiwan_LLama.ipynb#X26sdnNjb2RlLXJlbW90ZQ%3D%3D?line=2'>3</a>\u001b[0m \u001b[39mprint\u001b[39m(output_texts[\u001b[39m0\u001b[39m])\n\u001b[1;32m      <a href='vscode-notebook-cell://ssh-remote%2B140.124.183.34/home/wirl/ytc/%E8%A6%81%E5%AF%AB%E7%9A%84%E8%AB%96%E6%96%87%E7%A0%94%E7%A9%B6/code/2.1_modeling_test_Taiwan_LLama.ipynb#X26sdnNjb2RlLXJlbW90ZQ%3D%3D?line=3'>4</a>\u001b[0m \u001b[39mprint\u001b[39m(output_texts[\u001b[39m1073\u001b[39m])\n",
      "\u001b[0;31mNameError\u001b[0m: name 'dataset' is not defined"
     ]
    }
   ],
   "source": [
    "output_texts = format_instruction_prompt(dataset)\n",
    "\n",
    "print(output_texts[0])\n",
    "print(output_texts[1073])"
   ]
  },
  {
   "cell_type": "code",
   "execution_count": null,
   "metadata": {},
   "outputs": [],
   "source": []
  }
 ],
 "metadata": {
  "kernelspec": {
   "display_name": "s_paper",
   "language": "python",
   "name": "python3"
  },
  "language_info": {
   "codemirror_mode": {
    "name": "ipython",
    "version": 3
   },
   "file_extension": ".py",
   "mimetype": "text/x-python",
   "name": "python",
   "nbconvert_exporter": "python",
   "pygments_lexer": "ipython3",
   "version": "3.11.5"
  },
  "orig_nbformat": 4
 },
 "nbformat": 4,
 "nbformat_minor": 2
}
